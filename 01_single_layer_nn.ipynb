{
  "nbformat": 4,
  "nbformat_minor": 0,
  "metadata": {
    "colab": {
      "name": "01.single-layer-nn.ipynb",
      "version": "0.3.2",
      "provenance": []
    },
    "kernelspec": {
      "name": "python3",
      "display_name": "Python 3"
    }
  },
  "cells": [
    {
      "metadata": {
        "id": "grTitLqsUaGq",
        "colab_type": "code",
        "colab": {}
      },
      "cell_type": "code",
      "source": [
        "import numpy as np\n",
        "import matplotlib.pyplot as plt\n",
        "from tensorflow.keras.datasets import mnist"
      ],
      "execution_count": 0,
      "outputs": []
    },
    {
      "metadata": {
        "id": "ZEJ8NcW2V1Zj",
        "colab_type": "code",
        "colab": {}
      },
      "cell_type": "code",
      "source": [
        "def softmax(Z):\n",
        "  m = np.max(Z, axis=1, keepdims=True)\n",
        "  exp = np.exp(Z - m)\n",
        "  sum_exp = np.sum(exp, axis=1, keepdims=True)\n",
        "  A = exp / sum_exp\n",
        "  return A\n",
        "\n",
        "\n",
        "def initialize_parameters(n_input, n_output):\n",
        "  np.random.seed(20181005)\n",
        "  W = np.random.rand(n_input, n_output)\n",
        "  b = np.zeros((1,n_output))\n",
        "  return W, b\n",
        "\n",
        "\n",
        "def forward_propagation(X, W, b):\n",
        "  Z = np.dot(X, W) + b\n",
        "  A = softmax(Z)\n",
        "  return A\n",
        "\n",
        "\n",
        "def compute_cost(A, Y):\n",
        "  cost = -np.sum(Y * np.log(A) + (1-Y) * np.log(1 - A)) / len(Y)\n",
        "  return cost\n",
        "\n",
        "def compute_acc(A, Y):\n",
        "  Y_hat = np.argmax(A, axis=1)\n",
        "  Y = np.argmax(Y, axis=1)\n",
        "  acc = np.sum(Y_hat == Y) / len(A) * 100\n",
        "  return acc\n",
        "  \n",
        "def backward_propagation(X, Y, A):\n",
        "  dL_dZ = A - Y\n",
        "  dZ_dW = X\n",
        "  dZ_db = 1\n",
        "  \n",
        "  dL_dW = np.dot(dZ_dW.T, dL_dZ)\n",
        "  dL_db = np.sum(dL_dZ, axis=0, keepdims=True) / len(Y)\n",
        "  \n",
        "  return dL_dW, dL_db\n",
        "\n",
        "def update_parameters(W, b, dW, db, learning_rate):\n",
        "  W -= learning_rate * dW\n",
        "  b -= learning_rate * db\n",
        "  return W, b\n",
        "\n",
        "  "
      ],
      "execution_count": 0,
      "outputs": []
    },
    {
      "metadata": {
        "id": "MPWbYlJuUna2",
        "colab_type": "code",
        "colab": {
          "base_uri": "https://localhost:8080/",
          "height": 105
        },
        "outputId": "ac24aa58-9ad3-4edd-9e17-9de625453cc0"
      },
      "cell_type": "code",
      "source": [
        "(X_train, Y_train), (X_test, Y_test) = mnist.load_data()\n",
        "n_class = 10\n",
        "\n",
        "X_train = np.reshape(X_train, (-1, 28 * 28)) / 255.\n",
        "X_test = np.reshape(X_test, (-1, 28 * 28)) /255.\n",
        "\n",
        "Y_train = np.eye(n_class)[Y_train]\n",
        "Y_test = np.eye(n_class)[Y_test]\n",
        "\n",
        "print(\"X_train.shape :\", X_train.shape)\n",
        "print(\"Y_train.shape :\", Y_train.shape)\n",
        "print()\n",
        "print(\"X_test.shape :\", X_test.shape)\n",
        "print(\"Y_test.shape :\", Y_test.shape)"
      ],
      "execution_count": 3,
      "outputs": [
        {
          "output_type": "stream",
          "text": [
            "X_train.shape : (60000, 784)\n",
            "Y_train.shape : (60000, 10)\n",
            "\n",
            "X_test.shape : (10000, 784)\n",
            "Y_test.shape : (10000, 10)\n"
          ],
          "name": "stdout"
        }
      ]
    },
    {
      "metadata": {
        "id": "LuJ7PXvYWQf0",
        "colab_type": "code",
        "colab": {
          "base_uri": "https://localhost:8080/",
          "height": 404
        },
        "outputId": "128fb6a3-0a8d-42c3-dba1-d092e2c44d86"
      },
      "cell_type": "code",
      "source": [
        "epochs = 200\n",
        "learning_rate = 1e-5\n",
        "\n",
        "n_input = X_train.shape[1]\n",
        "n_output = Y_train.shape[1]\n",
        "\n",
        "W, b = initialize_parameters(n_input, n_output)\n",
        "print(\"W.shape :\", W.shape)\n",
        "print(\"b.shape :\", b.shape)\n",
        "\n",
        "for epoch in range(epochs):\n",
        "  A = forward_propagation(X_train, W, b)\n",
        "  cost = compute_cost(A, Y_train)\n",
        "  acc = compute_acc(A, Y_train)\n",
        "  \n",
        "  dW, db = backward_propagation(X_train, Y_train, A)\n",
        "\n",
        "  W, b = update_parameters(W, b, dW, db, learning_rate)\n",
        "\n",
        "  if epoch % 10 == 0 :\n",
        "    print(epoch,\"\\t\", cost,\"\\t\", acc)\n",
        "  "
      ],
      "execution_count": 4,
      "outputs": [
        {
          "output_type": "stream",
          "text": [
            "W.shape : (784, 10)\n",
            "b.shape : (1, 10)\n",
            "0 \t 6.622716557598398 \t 10.871666666666666\n",
            "10 \t 1.6763429877201672 \t 65.69166666666668\n",
            "20 \t 1.2275996730572765 \t 76.18666666666667\n",
            "30 \t 1.048664451776368 \t 80.08\n",
            "40 \t 0.9493325988731668 \t 82.18666666666667\n",
            "50 \t 0.8848018416659772 \t 83.49833333333333\n",
            "60 \t 0.8387933474037014 \t 84.45166666666667\n",
            "70 \t 0.8039174635683063 \t 85.2\n",
            "80 \t 0.7763138972726036 \t 85.79333333333334\n",
            "90 \t 0.7537582584789764 \t 86.315\n",
            "100 \t 0.7348719334845234 \t 86.72666666666666\n",
            "110 \t 0.7187509792319663 \t 87.06166666666667\n",
            "120 \t 0.7047755089606526 \t 87.41\n",
            "130 \t 0.6925046280943482 \t 87.68\n",
            "140 \t 0.6816151157446425 \t 87.88833333333334\n",
            "150 \t 0.6718639033939282 \t 88.12166666666667\n",
            "160 \t 0.6630641832806232 \t 88.28666666666666\n",
            "170 \t 0.655069670593189 \t 88.45666666666666\n",
            "180 \t 0.6477639289742927 \t 88.62\n",
            "190 \t 0.6410529434325872 \t 88.79166666666667\n"
          ],
          "name": "stdout"
        }
      ]
    },
    {
      "metadata": {
        "id": "fZ7cfF8izeo6",
        "colab_type": "code",
        "colab": {
          "base_uri": "https://localhost:8080/",
          "height": 52
        },
        "outputId": "4ff42753-b464-4f09-de05-0c131e8dc34c"
      },
      "cell_type": "code",
      "source": [
        "A_test = forward_propagation(X_test, W, b)\n",
        "acc_test = compute_acc(A_test, Y_test)\n",
        "print(\"Train Acc :\", acc)\n",
        "\n",
        "print(\"Test Acc  :\", acc_test)\n"
      ],
      "execution_count": 5,
      "outputs": [
        {
          "output_type": "stream",
          "text": [
            "Train Acc : 88.925\n",
            "Test Acc  : 89.62\n"
          ],
          "name": "stdout"
        }
      ]
    },
    {
      "metadata": {
        "id": "XnkfWyKd1ISH",
        "colab_type": "code",
        "colab": {
          "base_uri": "https://localhost:8080/",
          "height": 566
        },
        "outputId": "c64b2478-7858-423e-9816-6f4209c746d4"
      },
      "cell_type": "code",
      "source": [
        "%matplotlib inline\n",
        "Y_hat = np.argmax(A_test, axis=1)\n",
        "Y = np.argmax(Y_test, axis=1)\n",
        "fig=plt.figure(figsize=(20, 10))\n",
        "for i in range(0, 10):\n",
        "  img = X_test[Y_hat != Y][i].reshape(28, 28)\n",
        "  fig.add_subplot(2, 5, i+1)\n",
        "  plt.imshow(img)\n",
        "  plt.title(\"Target: \"+str(Y[Y_hat != Y][i])+\"\\nPredict: \"+ str(Y_hat[Y_hat != Y][i]) )\n"
      ],
      "execution_count": 6,
      "outputs": [
        {
          "output_type": "display_data",
          "data": {
            "image/png": "[encoded data removed]",
            "text/plain": [
              "<matplotlib.figure.Figure at 0x7f40a85c7f98>"
            ]
          },
          "metadata": {
            "tags": []
          }
        }
      ]
    }
  ]
}